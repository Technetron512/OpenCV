{
 "cells": [
  {
   "cell_type": "code",
   "execution_count": null,
   "id": "8e055731",
   "metadata": {},
   "outputs": [],
   "source": [
    "import cv2\n",
    "\n",
    "#loading face and eye cascades\n",
    "face_cascade=cv2.CascadeClassifier('haarcascade_frontalface_default.xml')\n",
    "eye_cascade=cv2.CascadeClassifier('haarcascade_eye.xml')\n",
    "smile_cascade=cv2.CascadeClassifier('haarcascade_smile.xml')\n",
    "\n",
    "def detect(gray, frame):\n",
    "    faces=face_cascade.detectMultiScale(gray, 1.3, 5)\n",
    "    #for face detection\n",
    "    for (x,y,w,h) in faces:\n",
    "        cv2.rectangle(frame,(x,y),(x+w,y+h),(255,0,0),2)\n",
    "        r_gray=gray[y:y+h,x:x+w]\n",
    "        r_color=frame[y:y+h,x:x+w]\n",
    "        #for eyes detection\n",
    "        eyes=eye_cascade.detectMultiScale(r_gray, 1.1, 15)\n",
    "        for (ex,ey,ew,eh) in eyes:\n",
    "            cv2.rectangle(r_color,(ex,ey),(ex+ew,ey+eh),(0,255,0),2)\n",
    "        #for smile detection\n",
    "        smiles=smile_cascade.detectMultiScale(r_gray, 1.7, 35)\n",
    "        for (sx,sy,sw,sh) in smiles:\n",
    "            cv2.rectangle(r_color,(sx,sy),(sx+sw,sy+sh),(0,0,255),2)\n",
    "    return frame\n",
    "#accessing the webcam\n",
    "webcam=cv2.VideoCapture(0)\n",
    "\n",
    "while True:\n",
    "    _, frame=webcam.read()\n",
    "    gray=cv2.cvtColor(frame,cv2.COLOR_BGR2GRAY)\n",
    "    canvas=detect(gray,frame)\n",
    "    cv2.imshow('Face and Eye Detection',canvas)\n",
    "    if cv2.waitKey(1) & 0xFF==ord('q'):\n",
    "        break\n",
    "webcam.release()\n",
    "cv2.destroyAllWindows()"
   ]
  },
  {
   "cell_type": "markdown",
   "id": "d5f5c973",
   "metadata": {},
   "source": [
    "1\n"
   ]
  },
  {
   "cell_type": "code",
   "execution_count": null,
   "id": "5cdd6c95",
   "metadata": {},
   "outputs": [],
   "source": [
    "\n"
   ]
  },
  {
   "cell_type": "code",
   "execution_count": null,
   "id": "dcbee288",
   "metadata": {},
   "outputs": [],
   "source": []
  }
 ],
 "metadata": {
  "kernelspec": {
   "display_name": "Python 3",
   "language": "python",
   "name": "python3"
  },
  "language_info": {
   "codemirror_mode": {
    "name": "ipython",
    "version": 3
   },
   "file_extension": ".py",
   "mimetype": "text/x-python",
   "name": "python",
   "nbconvert_exporter": "python",
   "pygments_lexer": "ipython3",
   "version": "3.8.8"
  }
 },
 "nbformat": 4,
 "nbformat_minor": 5
}
